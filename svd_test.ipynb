{
 "cells": [
  {
   "cell_type": "code",
   "execution_count": 1,
   "id": "94e734ee",
   "metadata": {},
   "outputs": [],
   "source": [
    "import numpy as np\n",
    "from numpy.linalg import svd, matrix_rank"
   ]
  },
  {
   "cell_type": "code",
   "execution_count": 2,
   "id": "911ba12f",
   "metadata": {},
   "outputs": [],
   "source": [
    "# rank=2の　３ｘ4行列を作成\n",
    "A = np.array([[2, 4, 1, 3], [1, 5, 3, 2], [5, 7, 0, 7]])"
   ]
  },
  {
   "cell_type": "code",
   "execution_count": 3,
   "id": "3c7e3332",
   "metadata": {},
   "outputs": [
    {
     "name": "stdout",
     "output_type": "stream",
     "text": [
      "matrix A\n",
      " [[2 4 1 3]\n",
      " [1 5 3 2]\n",
      " [5 7 0 7]]\n",
      "rank:  2\n"
     ]
    }
   ],
   "source": [
    "print('matrix A\\n', A)\n",
    "print('rank: ', matrix_rank(A))"
   ]
  },
  {
   "cell_type": "code",
   "execution_count": 4,
   "id": "904ff784",
   "metadata": {},
   "outputs": [
    {
     "name": "stdout",
     "output_type": "stream",
     "text": [
      "\n",
      "SVD result\n",
      "shape of u, s, vh: (3, 3) (3,) (4, 4)\n",
      "singular values: [13.39  3.58  0.  ]\n"
     ]
    }
   ],
   "source": [
    "# singular value decomposition\n",
    "u, s, vh = svd(A)\n",
    "print('\\nSVD result')\n",
    "print('shape of u, s, vh:', u.shape, s.shape, vh.shape)\n",
    "print('singular values:', s.round(2))"
   ]
  },
  {
   "cell_type": "code",
   "execution_count": 5,
   "id": "9e648fa0",
   "metadata": {},
   "outputs": [
    {
     "name": "stdout",
     "output_type": "stream",
     "text": [
      "\n",
      "SVD result　(full_matrices: False)\n",
      "shape of u, s, vh: (3, 3) (3,) (3, 4)\n"
     ]
    }
   ],
   "source": [
    "# full_matrices=Falseの場合\n",
    "u, s, vh = svd(A, full_matrices=False)\n",
    "print('\\nSVD result　(full_matrices: False)')\n",
    "print('shape of u, s, vh:', u.shape, s.shape, vh.shape)"
   ]
  },
  {
   "cell_type": "code",
   "execution_count": 6,
   "id": "7990d7dd",
   "metadata": {},
   "outputs": [
    {
     "name": "stdout",
     "output_type": "stream",
     "text": [
      "\n",
      "reconstructed A:\n",
      " [[ 2.  4.  1.  3.]\n",
      " [ 1.  5.  3.  2.]\n",
      " [ 5.  7. -0.  7.]]\n"
     ]
    }
   ],
   "source": [
    "# 復元\n",
    "# A_re = (u @ np.diag(s, -1)[1:] @ vh).round(2)\n",
    "A_re = (u @ np.diag(s) @ vh).round(2)\n",
    "print('\\nreconstructed A:\\n', A_re)"
   ]
  },
  {
   "cell_type": "code",
   "execution_count": 7,
   "id": "6cdb72bc",
   "metadata": {},
   "outputs": [
    {
     "data": {
      "text/plain": [
       "array([[-0.40783698, -0.12444751,  0.90453403],\n",
       "       [-0.40538262, -0.86299238, -0.30151134],\n",
       "       [-0.81812831,  0.48964985, -0.30151134]])"
      ]
     },
     "execution_count": 7,
     "metadata": {},
     "output_type": "execute_result"
    }
   ],
   "source": [
    "u"
   ]
  },
  {
   "cell_type": "code",
   "execution_count": 9,
   "id": "f835084b",
   "metadata": {},
   "outputs": [
    {
     "data": {
      "text/plain": [
       "array([[-0.39682822, -0.70114979, -0.12132523, -0.57982456],\n",
       "       [ 0.37306578, -0.38670052, -0.75749385,  0.37079333],\n",
       "       [-0.82742746,  0.06343221, -0.18163613,  0.5275874 ]])"
      ]
     },
     "execution_count": 9,
     "metadata": {},
     "output_type": "execute_result"
    }
   ],
   "source": [
    "vh"
   ]
  },
  {
   "cell_type": "code",
   "execution_count": null,
   "id": "8b3ffc2e",
   "metadata": {},
   "outputs": [],
   "source": []
  }
 ],
 "metadata": {
  "kernelspec": {
   "display_name": "Python 3",
   "language": "python",
   "name": "python3"
  },
  "language_info": {
   "codemirror_mode": {
    "name": "ipython",
    "version": 3
   },
   "file_extension": ".py",
   "mimetype": "text/x-python",
   "name": "python",
   "nbconvert_exporter": "python",
   "pygments_lexer": "ipython3",
   "version": "3.8.5"
  }
 },
 "nbformat": 4,
 "nbformat_minor": 5
}
